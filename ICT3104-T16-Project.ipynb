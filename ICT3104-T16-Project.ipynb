{
 "cells": [
  {
   "cell_type": "markdown",
   "metadata": {},
   "source": [
    "## R1. A python Jupyter notebook residing in a GitHub repository\n",
    "\n",
    "\t1.  After cloning the GitHub repo, able to interact with the localhost notebook through a browser in a linux, mac or windows environment that has python 3.x, Jupyter and other necessary dependencies installed."
   ]
  },
  {
   "cell_type": "markdown",
   "metadata": {},
   "source": [
    "#### US-01 As an User, I want to interact with the localhost notebook through a browser with the necessary dependencies so that I can access it remotely"
   ]
  },
  {
   "cell_type": "code",
   "execution_count": 1,
   "metadata": {},
   "outputs": [
    {
     "name": "stdout",
     "output_type": "stream",
     "text": [
      "Requirement already satisfied: ipywidgets in c:\\users\\joanl\\appdata\\local\\programs\\python\\python310\\lib\\site-packages (8.1.1)\n",
      "Requirement already satisfied: traitlets>=4.3.1 in c:\\users\\joanl\\appdata\\local\\programs\\python\\python310\\lib\\site-packages (from ipywidgets) (5.3.0)\n",
      "Requirement already satisfied: ipython>=6.1.0 in c:\\users\\joanl\\appdata\\local\\programs\\python\\python310\\lib\\site-packages (from ipywidgets) (8.4.0)\n",
      "Requirement already satisfied: jupyterlab-widgets~=3.0.9 in c:\\users\\joanl\\appdata\\local\\programs\\python\\python310\\lib\\site-packages (from ipywidgets) (3.0.9)\n",
      "Requirement already satisfied: widgetsnbextension~=4.0.9 in c:\\users\\joanl\\appdata\\local\\programs\\python\\python310\\lib\\site-packages (from ipywidgets) (4.0.9)\n",
      "Requirement already satisfied: comm>=0.1.3 in c:\\users\\joanl\\appdata\\local\\programs\\python\\python310\\lib\\site-packages (from ipywidgets) (0.1.4)\n",
      "Requirement already satisfied: prompt-toolkit!=3.0.0,!=3.0.1,<3.1.0,>=2.0.0 in c:\\users\\joanl\\appdata\\local\\programs\\python\\python310\\lib\\site-packages (from ipython>=6.1.0->ipywidgets) (3.0.30)\n",
      "Requirement already satisfied: stack-data in c:\\users\\joanl\\appdata\\local\\programs\\python\\python310\\lib\\site-packages (from ipython>=6.1.0->ipywidgets) (0.5.0)\n",
      "Requirement already satisfied: pygments>=2.4.0 in c:\\users\\joanl\\appdata\\local\\programs\\python\\python310\\lib\\site-packages (from ipython>=6.1.0->ipywidgets) (2.13.0)\n",
      "Requirement already satisfied: jedi>=0.16 in c:\\users\\joanl\\appdata\\local\\programs\\python\\python310\\lib\\site-packages (from ipython>=6.1.0->ipywidgets) (0.18.1)\n",
      "Requirement already satisfied: backcall in c:\\users\\joanl\\appdata\\local\\programs\\python\\python310\\lib\\site-packages (from ipython>=6.1.0->ipywidgets) (0.2.0)\n",
      "Requirement already satisfied: decorator in c:\\users\\joanl\\appdata\\local\\programs\\python\\python310\\lib\\site-packages (from ipython>=6.1.0->ipywidgets) (4.4.2)\n",
      "Requirement already satisfied: pickleshare in c:\\users\\joanl\\appdata\\local\\programs\\python\\python310\\lib\\site-packages (from ipython>=6.1.0->ipywidgets) (0.7.5)\n",
      "Requirement already satisfied: setuptools>=18.5 in c:\\users\\joanl\\appdata\\local\\programs\\python\\python310\\lib\\site-packages (from ipython>=6.1.0->ipywidgets) (63.2.0)\n",
      "Requirement already satisfied: matplotlib-inline in c:\\users\\joanl\\appdata\\local\\programs\\python\\python310\\lib\\site-packages (from ipython>=6.1.0->ipywidgets) (0.1.6)\n",
      "Requirement already satisfied: colorama in c:\\users\\joanl\\appdata\\local\\programs\\python\\python310\\lib\\site-packages (from ipython>=6.1.0->ipywidgets) (0.4.5)\n",
      "Requirement already satisfied: parso<0.9.0,>=0.8.0 in c:\\users\\joanl\\appdata\\local\\programs\\python\\python310\\lib\\site-packages (from jedi>=0.16->ipython>=6.1.0->ipywidgets) (0.8.3)\n",
      "Requirement already satisfied: wcwidth in c:\\users\\joanl\\appdata\\local\\programs\\python\\python310\\lib\\site-packages (from prompt-toolkit!=3.0.0,!=3.0.1,<3.1.0,>=2.0.0->ipython>=6.1.0->ipywidgets) (0.2.5)\n",
      "Requirement already satisfied: asttokens in c:\\users\\joanl\\appdata\\local\\programs\\python\\python310\\lib\\site-packages (from stack-data->ipython>=6.1.0->ipywidgets) (2.0.8)\n",
      "Requirement already satisfied: executing in c:\\users\\joanl\\appdata\\local\\programs\\python\\python310\\lib\\site-packages (from stack-data->ipython>=6.1.0->ipywidgets) (1.0.0)\n",
      "Requirement already satisfied: pure-eval in c:\\users\\joanl\\appdata\\local\\programs\\python\\python310\\lib\\site-packages (from stack-data->ipython>=6.1.0->ipywidgets) (0.2.2)\n",
      "Requirement already satisfied: six in c:\\users\\joanl\\appdata\\local\\programs\\python\\python310\\lib\\site-packages (from asttokens->stack-data->ipython>=6.1.0->ipywidgets) (1.16.0)\n",
      "Note: you may need to restart the kernel to use updated packages.\n"
     ]
    },
    {
     "name": "stderr",
     "output_type": "stream",
     "text": [
      "\n",
      "[notice] A new release of pip is available: 23.0.1 -> 23.2.1\n",
      "[notice] To update, run: python.exe -m pip install --upgrade pip\n"
     ]
    },
    {
     "name": "stdout",
     "output_type": "stream",
     "text": [
      "Requirement already satisfied: ipywidgets in c:\\users\\joanl\\appdata\\local\\programs\\python\\python310\\lib\\site-packages (8.1.1)\n",
      "Requirement already satisfied: moviepy in c:\\users\\joanl\\appdata\\local\\programs\\python\\python310\\lib\\site-packages (1.0.3)\n",
      "Requirement already satisfied: jupyterlab-widgets~=3.0.9 in c:\\users\\joanl\\appdata\\local\\programs\\python\\python310\\lib\\site-packages (from ipywidgets) (3.0.9)\n",
      "Requirement already satisfied: ipython>=6.1.0 in c:\\users\\joanl\\appdata\\local\\programs\\python\\python310\\lib\\site-packages (from ipywidgets) (8.4.0)\n",
      "Requirement already satisfied: widgetsnbextension~=4.0.9 in c:\\users\\joanl\\appdata\\local\\programs\\python\\python310\\lib\\site-packages (from ipywidgets) (4.0.9)\n",
      "Requirement already satisfied: comm>=0.1.3 in c:\\users\\joanl\\appdata\\local\\programs\\python\\python310\\lib\\site-packages (from ipywidgets) (0.1.4)\n",
      "Requirement already satisfied: traitlets>=4.3.1 in c:\\users\\joanl\\appdata\\local\\programs\\python\\python310\\lib\\site-packages (from ipywidgets) (5.3.0)\n",
      "Requirement already satisfied: numpy in c:\\users\\joanl\\appdata\\local\\programs\\python\\python310\\lib\\site-packages (from moviepy) (1.24.2)\n",
      "Requirement already satisfied: imageio<3.0,>=2.5 in c:\\users\\joanl\\appdata\\local\\programs\\python\\python310\\lib\\site-packages (from moviepy) (2.31.4)\n",
      "Requirement already satisfied: tqdm<5.0,>=4.11.2 in c:\\users\\joanl\\appdata\\local\\programs\\python\\python310\\lib\\site-packages (from moviepy) (4.66.1)\n",
      "Requirement already satisfied: requests<3.0,>=2.8.1 in c:\\users\\joanl\\appdata\\local\\programs\\python\\python310\\lib\\site-packages (from moviepy) (2.31.0)\n",
      "Requirement already satisfied: proglog<=1.0.0 in c:\\users\\joanl\\appdata\\local\\programs\\python\\python310\\lib\\site-packages (from moviepy) (0.1.10)\n",
      "Requirement already satisfied: decorator<5.0,>=4.0.2 in c:\\users\\joanl\\appdata\\local\\programs\\python\\python310\\lib\\site-packages (from moviepy) (4.4.2)\n",
      "Requirement already satisfied: imageio-ffmpeg>=0.2.0 in c:\\users\\joanl\\appdata\\local\\programs\\python\\python310\\lib\\site-packages (from moviepy) (0.4.9)\n",
      "Requirement already satisfied: pillow>=8.3.2 in c:\\users\\joanl\\appdata\\local\\programs\\python\\python310\\lib\\site-packages (from imageio<3.0,>=2.5->moviepy) (9.4.0)\n",
      "Requirement already satisfied: setuptools in c:\\users\\joanl\\appdata\\local\\programs\\python\\python310\\lib\\site-packages (from imageio-ffmpeg>=0.2.0->moviepy) (63.2.0)\n",
      "Requirement already satisfied: colorama in c:\\users\\joanl\\appdata\\local\\programs\\python\\python310\\lib\\site-packages (from ipython>=6.1.0->ipywidgets) (0.4.5)\n",
      "Requirement already satisfied: matplotlib-inline in c:\\users\\joanl\\appdata\\local\\programs\\python\\python310\\lib\\site-packages (from ipython>=6.1.0->ipywidgets) (0.1.6)\n",
      "Requirement already satisfied: stack-data in c:\\users\\joanl\\appdata\\local\\programs\\python\\python310\\lib\\site-packages (from ipython>=6.1.0->ipywidgets) (0.5.0)\n",
      "Requirement already satisfied: pygments>=2.4.0 in c:\\users\\joanl\\appdata\\local\\programs\\python\\python310\\lib\\site-packages (from ipython>=6.1.0->ipywidgets) (2.13.0)\n",
      "Requirement already satisfied: prompt-toolkit!=3.0.0,!=3.0.1,<3.1.0,>=2.0.0 in c:\\users\\joanl\\appdata\\local\\programs\\python\\python310\\lib\\site-packages (from ipython>=6.1.0->ipywidgets) (3.0.30)\n",
      "Requirement already satisfied: jedi>=0.16 in c:\\users\\joanl\\appdata\\local\\programs\\python\\python310\\lib\\site-packages (from ipython>=6.1.0->ipywidgets) (0.18.1)\n",
      "Requirement already satisfied: backcall in c:\\users\\joanl\\appdata\\local\\programs\\python\\python310\\lib\\site-packages (from ipython>=6.1.0->ipywidgets) (0.2.0)\n",
      "Requirement already satisfied: pickleshare in c:\\users\\joanl\\appdata\\local\\programs\\python\\python310\\lib\\site-packages (from ipython>=6.1.0->ipywidgets) (0.7.5)\n",
      "Requirement already satisfied: idna<4,>=2.5 in c:\\users\\joanl\\appdata\\local\\programs\\python\\python310\\lib\\site-packages (from requests<3.0,>=2.8.1->moviepy) (3.4)\n",
      "Requirement already satisfied: charset-normalizer<4,>=2 in c:\\users\\joanl\\appdata\\local\\programs\\python\\python310\\lib\\site-packages (from requests<3.0,>=2.8.1->moviepy) (3.1.0)\n",
      "Requirement already satisfied: certifi>=2017.4.17 in c:\\users\\joanl\\appdata\\local\\programs\\python\\python310\\lib\\site-packages (from requests<3.0,>=2.8.1->moviepy) (2022.12.7)\n",
      "Requirement already satisfied: urllib3<3,>=1.21.1 in c:\\users\\joanl\\appdata\\local\\programs\\python\\python310\\lib\\site-packages (from requests<3.0,>=2.8.1->moviepy) (2.0.2)\n",
      "Requirement already satisfied: parso<0.9.0,>=0.8.0 in c:\\users\\joanl\\appdata\\local\\programs\\python\\python310\\lib\\site-packages (from jedi>=0.16->ipython>=6.1.0->ipywidgets) (0.8.3)\n",
      "Requirement already satisfied: wcwidth in c:\\users\\joanl\\appdata\\local\\programs\\python\\python310\\lib\\site-packages (from prompt-toolkit!=3.0.0,!=3.0.1,<3.1.0,>=2.0.0->ipython>=6.1.0->ipywidgets) (0.2.5)\n",
      "Requirement already satisfied: asttokens in c:\\users\\joanl\\appdata\\local\\programs\\python\\python310\\lib\\site-packages (from stack-data->ipython>=6.1.0->ipywidgets) (2.0.8)\n",
      "Requirement already satisfied: executing in c:\\users\\joanl\\appdata\\local\\programs\\python\\python310\\lib\\site-packages (from stack-data->ipython>=6.1.0->ipywidgets) (1.0.0)\n",
      "Requirement already satisfied: pure-eval in c:\\users\\joanl\\appdata\\local\\programs\\python\\python310\\lib\\site-packages (from stack-data->ipython>=6.1.0->ipywidgets) (0.2.2)\n",
      "Requirement already satisfied: six in c:\\users\\joanl\\appdata\\local\\programs\\python\\python310\\lib\\site-packages (from asttokens->stack-data->ipython>=6.1.0->ipywidgets) (1.16.0)\n",
      "Note: you may need to restart the kernel to use updated packages.\n"
     ]
    },
    {
     "name": "stderr",
     "output_type": "stream",
     "text": [
      "\n",
      "[notice] A new release of pip is available: 23.0.1 -> 23.2.1\n",
      "[notice] To update, run: python.exe -m pip install --upgrade pip\n"
     ]
    },
    {
     "name": "stdout",
     "output_type": "stream",
     "text": [
      "Name: ipywidgets\n",
      "Version: 8.1.1\n",
      "Summary: Jupyter interactive widgets\n",
      "Home-page: http://jupyter.org\n",
      "Author: Jupyter Development Team\n",
      "Author-email: jupyter@googlegroups.com\n",
      "License: BSD 3-Clause License\n",
      "Location: c:\\users\\joanl\\appdata\\local\\programs\\python\\python310\\lib\\site-packages\n",
      "Requires: comm, ipython, jupyterlab-widgets, traitlets, widgetsnbextension\n",
      "Required-by: \n",
      "Note: you may need to restart the kernel to use updated packages.\n"
     ]
    }
   ],
   "source": [
    "#Using FileUpload widget from ipywidgets Lirary\n",
    "#Install ipywidgets library using pip install ipywidgets\n",
    "# Install ipywidgets\n",
    "%pip install ipywidgets\n",
    "%pip install ipywidgets moviepy\n",
    "\n",
    "\n",
    "# Import the necessary libraries.\n",
    "import ipywidgets as widgets\n",
    "from IPython.display import display, Video, clear_output\n",
    "import os\n",
    "from pathlib import Path\n",
    "%pip show ipywidgets\n",
    "import ipywidgets as widgets\n",
    "from IPython.display import display, clear_output\n",
    "from moviepy.editor import VideoFileClip\n",
    "# Create a FileUpload widget and continue with the code from the previous response\n"
   ]
  },
  {
   "cell_type": "markdown",
   "metadata": {},
   "source": [
    "## R2. A Data Exploration section in the notebook that can load, list and display video data from the Charades project\n",
    "\n",
    "\t1. A data folder in the repo with subfolders that store input video files and other related input files for different types of datasets \n",
    "\t2. Choose a video file from the data folder through an appropriate UI component (e.g., dropdown menu) in a notebook code cell \n",
    "    3. See video playback of the chosen video file in an output cell "
   ]
  },
  {
   "cell_type": "markdown",
   "metadata": {},
   "source": [
    "#### US-03 As an User, I want to store input video files in the repository so that I can organise and manage datasets easily for the different types of datasets"
   ]
  },
  {
   "cell_type": "code",
   "execution_count": 2,
   "metadata": {},
   "outputs": [
    {
     "name": "stdout",
     "output_type": "stream",
     "text": [
      "Sub-folder Data\\Charades Video exist\n",
      " \n",
      "Data\\Charades Video is not empty\n"
     ]
    }
   ],
   "source": [
    "# Create data folder if it does not exist \n",
    "data_directory = Path('./Data')\n",
    "if not os.path.exists(data_directory):\n",
    "    os.makedirs(data_directory)\n",
    "    \n",
    "# Create Charades video subfoler \n",
    "directory = data_directory/\"Charades Video\"\n",
    "if not os.path.exists(directory):\n",
    "    os.makedirs(directory)\n",
    "    print(\"Created \" + str(directory))\n",
    "else:\n",
    "    print(\"Sub-folder \" +str(directory) + \" exist\")\n",
    "    \n",
    "# Check if videos exist in subfolder \n",
    "if os.path.isdir(directory) and os.path.exists(directory):\n",
    "    if len(os.listdir(directory)) == 0:\n",
    "        print(\" \")\n",
    "        print(str(directory) + \" is empty\")\n",
    "        print(\"Please upload video data to this file path: \"+ str(directory))\n",
    "    else:    \n",
    "        print(\" \")\n",
    "        print(str(directory) + \" is not empty\")"
   ]
  },
  {
   "cell_type": "markdown",
   "metadata": {},
   "source": [
    "#### US-04 As an User, I want to select a video file using an UI component, so that I can easily choose the video"
   ]
  },
  {
   "cell_type": "code",
   "execution_count": 3,
   "metadata": {},
   "outputs": [
    {
     "data": {
      "application/vnd.jupyter.widget-view+json": {
       "model_id": "610ccacf92b0404783fa628e3fb8a038",
       "version_major": 2,
       "version_minor": 0
      },
      "text/plain": [
       "FileUpload(value=(), accept='.mp4', description='Upload', multiple=True)"
      ]
     },
     "metadata": {},
     "output_type": "display_data"
    },
    {
     "data": {
      "application/vnd.jupyter.widget-view+json": {
       "model_id": "dcc5bd67e4f14c789e757d8c05421576",
       "version_major": 2,
       "version_minor": 0
      },
      "text/plain": [
       "Button(description='Display Video Details', style=ButtonStyle())"
      ]
     },
     "metadata": {},
     "output_type": "display_data"
    },
    {
     "data": {
      "application/vnd.jupyter.widget-view+json": {
       "model_id": "04485b422354417a95b8d68e72e71155",
       "version_major": 2,
       "version_minor": 0
      },
      "text/plain": [
       "Output()"
      ]
     },
     "metadata": {},
     "output_type": "display_data"
    }
   ],
   "source": [
    "# Create a FileUpload widget\n",
    "file_upload = widgets.FileUpload(\n",
    "    accept='.mp4',  # You can specify the accepted file type(s) here\n",
    "    multiple=True  # Set to True if you want to allow multiple file uploads\n",
    ")\n",
    "\n",
    "# Create a button to display video details\n",
    "display_button = widgets.Button(description=\"Display Video Details\")\n",
    "output_details = widgets.Output()\n",
    "\n",
    "def display_details(_):\n",
    "    with output_details:\n",
    "        clear_output()\n",
    "        uploaded_filenames = list(file_upload.value.keys())\n",
    "        for filename in uploaded_filenames:\n",
    "            with open(filename, 'wb') as f:\n",
    "                f.write(file_upload.value[filename]['content'])\n",
    "            print(f\"Uploaded file: {filename}\")\n",
    "            \n",
    "            # Get video details\n",
    "            video_clip = VideoFileClip(filename)\n",
    "            file_size = os.path.getsize(filename)\n",
    "            duration = video_clip.duration\n",
    "            frame_rate = video_clip.fps\n",
    "            width, height = video_clip.size\n",
    "\n",
    "            print(f\"File Name: {filename}\")\n",
    "            print(f\"File Size (bytes): {file_size}\")\n",
    "            print(f\"Duration (seconds): {duration}\")\n",
    "            print(f\"Frame Rate (fps): {frame_rate}\")\n",
    "            print(f\"Video Resolution: {width}x{height}\")\n",
    "\n",
    "display_button.on_click(display_details)\n",
    "\n",
    "# Display widgets\n",
    "display(file_upload)\n",
    "display(display_button)\n",
    "display(output_details)\n"
   ]
  },
  {
   "cell_type": "markdown",
   "metadata": {},
   "source": [
    "# As an User, I want to load the selected video so that I can view the video playback"
   ]
  },
  {
   "cell_type": "code",
   "execution_count": 4,
   "metadata": {},
   "outputs": [
    {
     "data": {
      "application/vnd.jupyter.widget-view+json": {
       "model_id": "85c76136d84f425d82c599f4ea530c32",
       "version_major": 2,
       "version_minor": 0
      },
      "text/plain": [
       "Dropdown(description='Number:', options=('LX54K.mp4', 'N0NLE.mp4', 'OA9W5.mp4', 'OQSPB.mp4', 'P6S89.mp4', 'P8G…"
      ]
     },
     "metadata": {},
     "output_type": "display_data"
    },
    {
     "data": {
      "application/vnd.jupyter.widget-view+json": {
       "model_id": "40ff8e640ab04f389db6642a816548d1",
       "version_major": 2,
       "version_minor": 0
      },
      "text/plain": [
       "ToggleButton(value=False, description='Playback', icon='check', tooltip='Description')"
      ]
     },
     "metadata": {},
     "output_type": "display_data"
    }
   ],
   "source": [
    "video_list= os.listdir(\"Data/Charades Video\")\n",
    "\n",
    "dropdown = widgets.Dropdown(\n",
    "    options=video_list,\n",
    "    description='Number:',\n",
    "    disabled=False,\n",
    ")\n",
    "playback_btn = widgets.ToggleButton(\n",
    "    value=False,\n",
    "    description='Playback',\n",
    "    disabled=False,\n",
    "    button_style='', # 'success', 'info', 'warning', 'danger' or ''\n",
    "    tooltip='Description',\n",
    "    icon='check' # (FontAwesome names without the `fa-` prefix)\n",
    ")\n",
    "\n",
    "def display_widget():\n",
    "    display(dropdown)\n",
    "    display(playback_btn)\n",
    "\n",
    "\n",
    "def on_value_change(change):\n",
    "    global video_display\n",
    "    if change['new'] == True:\n",
    "        video_path = \"Data/Charades Video/\" + dropdown.value\n",
    "        # if video_display:\n",
    "        #     video_display.close()  # Close the previous video display\n",
    "        video_display = Video(video_path)\n",
    "        display(video_display)\n",
    "    else:\n",
    "        # Stop video playback\n",
    "        if video_display:\n",
    "            clear_output()\n",
    "            video_path = \"Data/Charades Video/\" + dropdown.value\n",
    "            video_display = Video(video_path)\n",
    "            display_widget()\n",
    "            display(video_display)\n",
    "\n",
    "playback_btn.observe(on_value_change, 'value')\n",
    "\n",
    "\n",
    "display_widget()"
   ]
  },
  {
   "cell_type": "code",
   "execution_count": null,
   "metadata": {},
   "outputs": [],
   "source": []
  }
 ],
 "metadata": {
  "kernelspec": {
   "display_name": "Python 3",
   "language": "python",
   "name": "python3"
  },
  "language_info": {
   "codemirror_mode": {
    "name": "ipython",
    "version": 3
   },
   "file_extension": ".py",
   "mimetype": "text/x-python",
   "name": "python",
   "nbconvert_exporter": "python",
   "pygments_lexer": "ipython3",
   "version": "3.10.8"
  },
  "orig_nbformat": 4,
  "polyglot_notebook": {
   "kernelInfo": {
    "defaultKernelName": "csharp",
    "items": [
     {
      "aliases": [],
      "name": "csharp"
     }
    ]
   }
  }
 },
 "nbformat": 4,
 "nbformat_minor": 2
}
